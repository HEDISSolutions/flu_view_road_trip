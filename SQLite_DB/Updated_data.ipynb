{
 "cells": [
  {
   "cell_type": "code",
   "execution_count": 1,
   "id": "e8e3b3e0",
   "metadata": {},
   "outputs": [],
   "source": [
    "#Importing Libraries\n",
    "import sqlite3\n",
    "import pandas as pd"
   ]
  },
  {
   "cell_type": "code",
   "execution_count": 2,
   "id": "dd5277db",
   "metadata": {},
   "outputs": [
    {
     "data": {
      "text/html": [
       "<div>\n",
       "<style scoped>\n",
       "    .dataframe tbody tr th:only-of-type {\n",
       "        vertical-align: middle;\n",
       "    }\n",
       "\n",
       "    .dataframe tbody tr th {\n",
       "        vertical-align: top;\n",
       "    }\n",
       "\n",
       "    .dataframe thead th {\n",
       "        text-align: right;\n",
       "    }\n",
       "</style>\n",
       "<table border=\"1\" class=\"dataframe\">\n",
       "  <thead>\n",
       "    <tr style=\"text-align: right;\">\n",
       "      <th></th>\n",
       "      <th>CBSA_ID</th>\n",
       "      <th>CBSA_NAME</th>\n",
       "      <th>ACUITY_LEVEL</th>\n",
       "      <th>WEEK</th>\n",
       "      <th>SEASON</th>\n",
       "      <th>Latitude</th>\n",
       "      <th>Longitude</th>\n",
       "      <th>ACTIVITY_LEVEL</th>\n",
       "    </tr>\n",
       "  </thead>\n",
       "  <tbody>\n",
       "    <tr>\n",
       "      <th>0</th>\n",
       "      <td>454</td>\n",
       "      <td>Alamogordo, NM</td>\n",
       "      <td>7</td>\n",
       "      <td>3/9/2024</td>\n",
       "      <td>2023-24</td>\n",
       "      <td>32.899532</td>\n",
       "      <td>-105.960265</td>\n",
       "      <td>Moderate</td>\n",
       "    </tr>\n",
       "    <tr>\n",
       "      <th>1</th>\n",
       "      <td>250</td>\n",
       "      <td>Albertville, AL</td>\n",
       "      <td>3</td>\n",
       "      <td>3/9/2024</td>\n",
       "      <td>2023-24</td>\n",
       "      <td>34.267594</td>\n",
       "      <td>-86.208867</td>\n",
       "      <td>Minimal</td>\n",
       "    </tr>\n",
       "    <tr>\n",
       "      <th>2</th>\n",
       "      <td>165</td>\n",
       "      <td>Albuquerque, NM</td>\n",
       "      <td>11</td>\n",
       "      <td>3/9/2024</td>\n",
       "      <td>2023-24</td>\n",
       "      <td>35.084386</td>\n",
       "      <td>-106.650422</td>\n",
       "      <td>Very High</td>\n",
       "    </tr>\n",
       "    <tr>\n",
       "      <th>3</th>\n",
       "      <td>891</td>\n",
       "      <td>Alexander City, AL</td>\n",
       "      <td>2</td>\n",
       "      <td>3/9/2024</td>\n",
       "      <td>2023-24</td>\n",
       "      <td>32.944012</td>\n",
       "      <td>-85.953853</td>\n",
       "      <td>Minimal</td>\n",
       "    </tr>\n",
       "    <tr>\n",
       "      <th>4</th>\n",
       "      <td>66</td>\n",
       "      <td>Alexandria, LA</td>\n",
       "      <td>5</td>\n",
       "      <td>3/9/2024</td>\n",
       "      <td>2023-24</td>\n",
       "      <td>31.311294</td>\n",
       "      <td>-92.445137</td>\n",
       "      <td>Low</td>\n",
       "    </tr>\n",
       "    <tr>\n",
       "      <th>...</th>\n",
       "      <td>...</td>\n",
       "      <td>...</td>\n",
       "      <td>...</td>\n",
       "      <td>...</td>\n",
       "      <td>...</td>\n",
       "      <td>...</td>\n",
       "      <td>...</td>\n",
       "      <td>...</td>\n",
       "    </tr>\n",
       "    <tr>\n",
       "      <th>1261</th>\n",
       "      <td>409</td>\n",
       "      <td>Victoria, TX</td>\n",
       "      <td>1</td>\n",
       "      <td>5/4/2024</td>\n",
       "      <td>2023-24</td>\n",
       "      <td>28.805267</td>\n",
       "      <td>-97.003598</td>\n",
       "      <td>Minimal</td>\n",
       "    </tr>\n",
       "    <tr>\n",
       "      <th>1262</th>\n",
       "      <td>642</td>\n",
       "      <td>Waco, TX</td>\n",
       "      <td>1</td>\n",
       "      <td>5/4/2024</td>\n",
       "      <td>2023-24</td>\n",
       "      <td>31.549333</td>\n",
       "      <td>-97.146670</td>\n",
       "      <td>Minimal</td>\n",
       "    </tr>\n",
       "    <tr>\n",
       "      <th>1263</th>\n",
       "      <td>907</td>\n",
       "      <td>Wauchula, FL</td>\n",
       "      <td>1</td>\n",
       "      <td>5/4/2024</td>\n",
       "      <td>2023-24</td>\n",
       "      <td>27.547259</td>\n",
       "      <td>-81.811471</td>\n",
       "      <td>Minimal</td>\n",
       "    </tr>\n",
       "    <tr>\n",
       "      <th>1264</th>\n",
       "      <td>108</td>\n",
       "      <td>Yuba City, CA</td>\n",
       "      <td>1</td>\n",
       "      <td>5/4/2024</td>\n",
       "      <td>2023-24</td>\n",
       "      <td>39.140661</td>\n",
       "      <td>-121.617739</td>\n",
       "      <td>Minimal</td>\n",
       "    </tr>\n",
       "    <tr>\n",
       "      <th>1265</th>\n",
       "      <td>59</td>\n",
       "      <td>Yuma, AZ</td>\n",
       "      <td>1</td>\n",
       "      <td>5/4/2024</td>\n",
       "      <td>2023-24</td>\n",
       "      <td>32.692651</td>\n",
       "      <td>-114.627692</td>\n",
       "      <td>Minimal</td>\n",
       "    </tr>\n",
       "  </tbody>\n",
       "</table>\n",
       "<p>1266 rows × 8 columns</p>\n",
       "</div>"
      ],
      "text/plain": [
       "      CBSA_ID           CBSA_NAME  ACUITY_LEVEL      WEEK   SEASON   Latitude  \\\n",
       "0         454      Alamogordo, NM             7  3/9/2024  2023-24  32.899532   \n",
       "1         250     Albertville, AL             3  3/9/2024  2023-24  34.267594   \n",
       "2         165     Albuquerque, NM            11  3/9/2024  2023-24  35.084386   \n",
       "3         891  Alexander City, AL             2  3/9/2024  2023-24  32.944012   \n",
       "4          66      Alexandria, LA             5  3/9/2024  2023-24  31.311294   \n",
       "...       ...                 ...           ...       ...      ...        ...   \n",
       "1261      409        Victoria, TX             1  5/4/2024  2023-24  28.805267   \n",
       "1262      642            Waco, TX             1  5/4/2024  2023-24  31.549333   \n",
       "1263      907        Wauchula, FL             1  5/4/2024  2023-24  27.547259   \n",
       "1264      108       Yuba City, CA             1  5/4/2024  2023-24  39.140661   \n",
       "1265       59            Yuma, AZ             1  5/4/2024  2023-24  32.692651   \n",
       "\n",
       "       Longitude ACTIVITY_LEVEL  \n",
       "0    -105.960265       Moderate  \n",
       "1     -86.208867        Minimal  \n",
       "2    -106.650422      Very High  \n",
       "3     -85.953853        Minimal  \n",
       "4     -92.445137            Low  \n",
       "...          ...            ...  \n",
       "1261  -97.003598        Minimal  \n",
       "1262  -97.146670        Minimal  \n",
       "1263  -81.811471        Minimal  \n",
       "1264 -121.617739        Minimal  \n",
       "1265 -114.627692        Minimal  \n",
       "\n",
       "[1266 rows x 8 columns]"
      ]
     },
     "execution_count": 2,
     "metadata": {},
     "output_type": "execute_result"
    }
   ],
   "source": [
    "#Read CSV file into a Dataframe\n",
    "file_path = '../data/updated_route_to_grandmas.csv'\n",
    "data = pd.read_csv(file_path)\n",
    "\n",
    "data"
   ]
  },
  {
   "cell_type": "code",
   "execution_count": 4,
   "id": "3d9af1ae",
   "metadata": {},
   "outputs": [
    {
     "data": {
      "text/plain": [
       "CBSA_ID             int64\n",
       "CBSA_NAME          object\n",
       "ACUITY_LEVEL        int64\n",
       "WEEK               object\n",
       "SEASON             object\n",
       "Latitude          float64\n",
       "Longitude         float64\n",
       "ACTIVITY_LEVEL     object\n",
       "dtype: object"
      ]
     },
     "execution_count": 4,
     "metadata": {},
     "output_type": "execute_result"
    }
   ],
   "source": [
    "data.dtypes"
   ]
  },
  {
   "cell_type": "code",
   "execution_count": 5,
   "id": "64710979",
   "metadata": {},
   "outputs": [],
   "source": [
    "### Storing data into SQLite"
   ]
  },
  {
   "cell_type": "code",
   "execution_count": 6,
   "id": "4862ff5a",
   "metadata": {},
   "outputs": [
    {
     "data": {
      "text/plain": [
       "1266"
      ]
     },
     "execution_count": 6,
     "metadata": {},
     "output_type": "execute_result"
    }
   ],
   "source": [
    "#connect to databade\n",
    "connection = sqlite3.connect('DrivingRoute.db')\n",
    "data.to_sql('Updated_Flu_data', connection, if_exists='replace')"
   ]
  },
  {
   "cell_type": "code",
   "execution_count": 7,
   "id": "339c97c6",
   "metadata": {},
   "outputs": [],
   "source": [
    "connection.close()"
   ]
  },
  {
   "cell_type": "code",
   "execution_count": null,
   "id": "f5f64b89",
   "metadata": {},
   "outputs": [],
   "source": []
  }
 ],
 "metadata": {
  "kernelspec": {
   "display_name": "Python 3 (ipykernel)",
   "language": "python",
   "name": "python3"
  },
  "language_info": {
   "codemirror_mode": {
    "name": "ipython",
    "version": 3
   },
   "file_extension": ".py",
   "mimetype": "text/x-python",
   "name": "python",
   "nbconvert_exporter": "python",
   "pygments_lexer": "ipython3",
   "version": "3.10.14"
  }
 },
 "nbformat": 4,
 "nbformat_minor": 5
}
