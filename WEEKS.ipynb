{
 "cells": [
  {
   "cell_type": "code",
   "execution_count": 8,
   "metadata": {},
   "outputs": [
    {
     "name": "stdout",
     "output_type": "stream",
     "text": [
      "Created file: C:\\Users\\board\\Proj3 exfiles\\week_10.csv\n",
      "Created file: C:\\Users\\board\\Proj3 exfiles\\week_11.csv\n",
      "Created file: C:\\Users\\board\\Proj3 exfiles\\week_12.csv\n",
      "Created file: C:\\Users\\board\\Proj3 exfiles\\week_13.csv\n",
      "Created file: C:\\Users\\board\\Proj3 exfiles\\week_14.csv\n",
      "Created file: C:\\Users\\board\\Proj3 exfiles\\week_15.csv\n",
      "Created file: C:\\Users\\board\\Proj3 exfiles\\week_16.csv\n",
      "Created file: C:\\Users\\board\\Proj3 exfiles\\week_17.csv\n",
      "Created file: C:\\Users\\board\\Proj3 exfiles\\week_18.csv\n"
     ]
    }
   ],
   "source": [
    "import os\n",
    "import pandas as pd\n",
    "\n",
    "# Set the correct file path\n",
    "file_path = r\"C:\\Users\\board\\Proj3 exfiles\\updated_route_to_grandmas.csv\"  # Use the updated absolute path\n",
    "\n",
    "# Check if the file exists\n",
    "if not os.path.exists(file_path):\n",
    "    raise FileNotFoundError(f\"The file {file_path} does not exist.\")\n",
    "\n",
    "# Load the CSV file\n",
    "data = pd.read_csv(file_path)\n",
    "\n",
    "# Ensure the 'WEEK' column is properly formatted\n",
    "if \"WEEK\" not in data.columns:\n",
    "    raise ValueError(\"The CSV file must contain a 'WEEK' column.\")\n",
    "\n",
    "# Output directory (same as input file's directory)\n",
    "output_directory = os.path.dirname(file_path)\n",
    "\n",
    "# Group by 'WEEK' and save each group as a separate CSV file\n",
    "for week, group in data.groupby(\"WEEK\"):\n",
    "    output_file = os.path.join(output_directory, f\"week_{week}.csv\".replace(\"/\", \"-\"))  # Replace slashes in week\n",
    "    group.to_csv(output_file, index=False)\n",
    "    print(f\"Created file: {output_file}\")\n",
    "\n",
    "\n",
    "\n",
    "\n"
   ]
  },
  {
   "cell_type": "code",
   "execution_count": null,
   "metadata": {},
   "outputs": [],
   "source": []
  }
 ],
 "metadata": {
  "kernelspec": {
   "display_name": "Python (dallen)",
   "language": "python",
   "name": "dallen"
  },
  "language_info": {
   "codemirror_mode": {
    "name": "ipython",
    "version": 3
   },
   "file_extension": ".py",
   "mimetype": "text/x-python",
   "name": "python",
   "nbconvert_exporter": "python",
   "pygments_lexer": "ipython3",
   "version": "3.12.4"
  }
 },
 "nbformat": 4,
 "nbformat_minor": 2
}
