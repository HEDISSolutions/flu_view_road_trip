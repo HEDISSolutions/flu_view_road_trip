{
 "cells": [
  {
   "cell_type": "code",
   "execution_count": null,
   "metadata": {},
   "outputs": [],
   "source": [
    "import pandas as pd\n",
    "\n",
    "# Adjust the file path and delimiter as needed\n",
    "df = pd.read_csv(r'c:\\Users\\board\\PROJECT_3_FLUVIEW\\National_Healthcare_Safety_Network_Hospitalization_Surveillance_Data_2023-24_National.csv', \n",
    "                 sep=',',  # Change this if your file uses a different delimiter\n",
    "                 on_bad_lines='skip')  # Skip bad lines\n"
   ]
  }
 ],
 "metadata": {
  "kernelspec": {
   "display_name": "Python (dallen)",
   "language": "python",
   "name": "dallen"
  },
  "language_info": {
   "name": "python",
   "version": "3.12.4"
  }
 },
 "nbformat": 4,
 "nbformat_minor": 2
}
